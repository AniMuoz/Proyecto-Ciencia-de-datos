{
 "cells": [
  {
   "cell_type": "markdown",
   "id": "z07w11glgAg5",
   "metadata": {
    "id": "z07w11glgAg5"
   },
   "source": [
    "# Anibal Muñoz\n",
    "# 21.087.122-5\n",
    "# Diego Vergara\n",
    "# 19.940.239-0\n",
    "# Cristobal Galaz\n",
    "# 20.359.833-5"
   ]
  },
  {
   "cell_type": "code",
   "execution_count": 22,
   "id": "aa9936f0",
   "metadata": {},
   "outputs": [],
   "source": [
    "#pip install pandas \n",
    "#pip install numpy\n",
    "#pip install seaborn\n",
    "#pip install kagglehub\n",
    "#pip install -U scikit-learn\n",
    "#pip install tensorflow\n",
    "#pip install keras"
   ]
  },
  {
   "cell_type": "code",
   "execution_count": 2,
   "id": "BFi_By-C102k",
   "metadata": {
    "id": "BFi_By-C102k"
   },
   "outputs": [],
   "source": [
    "#------Manejo de datos------\n",
    "import pandas as pd\n",
    "import numpy as np\n",
    "import os\n",
    "from sklearn.preprocessing import StandardScaler\n",
    "#------Modelos------\n",
    "from sklearn.model_selection import train_test_split\n",
    "from sklearn.linear_model import LogisticRegression\n",
    "from sklearn.neighbors import KNeighborsClassifier\n",
    "from sklearn.tree import DecisionTreeClassifier\n",
    "from sklearn.model_selection import KFold\n",
    "from sklearn.metrics import accuracy_score\n",
    "from sklearn.ensemble import RandomForestClassifier\n",
    "from sklearn.model_selection import ShuffleSplit\n",
    "#------Reportes------\n",
    "from sklearn.metrics import classification_report\n",
    "from sklearn.model_selection import cross_val_score\n",
    "from sklearn.metrics import accuracy_score\n",
    "from sklearn.model_selection import cross_validate, StratifiedKFold"
   ]
  },
  {
   "cell_type": "code",
   "execution_count": 3,
   "id": "ed18682c-c2dd-4d28-938e-15b1375fff14",
   "metadata": {},
   "outputs": [],
   "source": [
    "data_train = pd.read_excel(\"data_train.xlsx\")\n",
    "data_test = pd.read_excel(\"data_test.xlsx\")"
   ]
  },
  {
   "cell_type": "code",
   "execution_count": 4,
   "id": "0cb5964c-014f-4598-9584-456cc9f72909",
   "metadata": {},
   "outputs": [
    {
     "data": {
      "text/plain": [
       "(103284, 24)"
      ]
     },
     "execution_count": 4,
     "metadata": {},
     "output_type": "execute_result"
    }
   ],
   "source": [
    "data_test = pd.DataFrame(data_test)\n",
    "data_test.shape"
   ]
  },
  {
   "cell_type": "code",
   "execution_count": 6,
   "id": "5ec6e587-59d8-4752-9821-c3425a3e5fb3",
   "metadata": {},
   "outputs": [
    {
     "data": {
      "text/plain": [
       "(25810, 24)"
      ]
     },
     "execution_count": 6,
     "metadata": {},
     "output_type": "execute_result"
    }
   ],
   "source": [
    "data_train = pd.DataFrame(data_train)\n",
    "data_train.shape"
   ]
  },
  {
   "cell_type": "markdown",
   "id": "7-qJqXdud8XJ",
   "metadata": {
    "id": "7-qJqXdud8XJ"
   },
   "source": [
    "# Ya habiendo limpiado los 2 dataframes se procedera a aplicar modelos de clasificacion para predecir la satisfaccion de los clientes de la aerolinea"
   ]
  },
  {
   "cell_type": "code",
   "execution_count": 10,
   "id": "oUIbCOJAeIAX",
   "metadata": {
    "colab": {
     "base_uri": "https://localhost:8080/"
    },
    "id": "oUIbCOJAeIAX",
    "outputId": "deba4b0c-f45e-4051-f78b-c1ed64a4ba0c"
   },
   "outputs": [
    {
     "name": "stdout",
     "output_type": "stream",
     "text": [
      "(25810, 23)\n",
      "(25810,)\n",
      "(103284, 23)\n",
      "(103284,)\n"
     ]
    }
   ],
   "source": [
    "X_train = data_train.drop('satisfaction_encoded', axis=1)\n",
    "y_train = data_train['satisfaction_encoded']\n",
    "X_test = data_test.drop('satisfaction_encoded', axis=1)\n",
    "y_test = data_test['satisfaction_encoded']\n",
    "\n",
    "print(X_train.shape)\n",
    "print(y_train.shape)\n",
    "print(X_test.shape)\n",
    "print(y_test.shape)"
   ]
  },
  {
   "cell_type": "code",
   "execution_count": 12,
   "id": "VjB_ENRFrPXj",
   "metadata": {
    "id": "VjB_ENRFrPXj"
   },
   "outputs": [],
   "source": [
    "# Inicializar StandardScaler\n",
    "scaler = StandardScaler()\n",
    "\n",
    "# Ajustar y transformar las características de entrenamiento\n",
    "X_train_scaled = scaler.fit_transform(X_train)\n",
    "\n",
    "# Transformar las características de prueba usando el mismo scaler ajustado en los datos de entrenamiento\n",
    "X_test_scaled = scaler.transform(X_test)\n",
    "\n",
    "# Ahora X_train_scaled y X_test_scaled contienen los datos escalados\n"
   ]
  },
  {
   "cell_type": "markdown",
   "id": "8K8O2Ak4f3D8",
   "metadata": {
    "id": "8K8O2Ak4f3D8"
   },
   "source": [
    "REGRESION LOGISTICA , KNN , ARBOL DE DECISION, RANDOM FOREST,RED NEURONAL"
   ]
  },
  {
   "cell_type": "code",
   "execution_count": 66,
   "id": "1sW6KkbBf4J3",
   "metadata": {
    "colab": {
     "base_uri": "https://localhost:8080/"
    },
    "id": "1sW6KkbBf4J3",
    "outputId": "f03219af-232a-4334-eece-85f7b607667d"
   },
   "outputs": [
    {
     "name": "stdout",
     "output_type": "stream",
     "text": [
      "\n",
      "Logistic Regression Classification Report:\n",
      "              precision    recall  f1-score   support\n",
      "\n",
      "           0       0.88      0.90      0.89     58528\n",
      "           1       0.87      0.83      0.85     44756\n",
      "\n",
      "    accuracy                           0.87    103284\n",
      "   macro avg       0.87      0.87      0.87    103284\n",
      "weighted avg       0.87      0.87      0.87    103284\n",
      "\n",
      "\n",
      "KNN Classification Report:\n",
      "              precision    recall  f1-score   support\n",
      "\n",
      "           0       0.73      0.76      0.74     58528\n",
      "           1       0.67      0.63      0.65     44756\n",
      "\n",
      "    accuracy                           0.71    103284\n",
      "   macro avg       0.70      0.70      0.70    103284\n",
      "weighted avg       0.70      0.71      0.70    103284\n",
      "\n",
      "\n",
      "Decision Tree Classification Report:\n",
      "              precision    recall  f1-score   support\n",
      "\n",
      "           0       0.95      0.94      0.94     58528\n",
      "           1       0.92      0.93      0.93     44756\n",
      "\n",
      "    accuracy                           0.94    103284\n",
      "   macro avg       0.93      0.93      0.93    103284\n",
      "weighted avg       0.94      0.94      0.94    103284\n",
      "\n",
      "\n",
      "Random Forest Classification Report:\n",
      "              precision    recall  f1-score   support\n",
      "\n",
      "           0       0.95      0.97      0.96     58528\n",
      "           1       0.96      0.94      0.95     44756\n",
      "\n",
      "    accuracy                           0.95    103284\n",
      "   macro avg       0.95      0.95      0.95    103284\n",
      "weighted avg       0.95      0.95      0.95    103284\n",
      "\n"
     ]
    },
    {
     "name": "stderr",
     "output_type": "stream",
     "text": [
      "C:\\Users\\Alumno\\anaconda3\\Lib\\site-packages\\keras\\src\\layers\\core\\dense.py:93: UserWarning: Do not pass an `input_shape`/`input_dim` argument to a layer. When using Sequential models, prefer using an `Input(shape)` object as the first layer in the model instead.\n",
      "  super().__init__(activity_regularizer=activity_regularizer, **kwargs)\n"
     ]
    },
    {
     "name": "stdout",
     "output_type": "stream",
     "text": [
      "\u001b[1m3228/3228\u001b[0m \u001b[32m━━━━━━━━━━━━━━━━━━━━\u001b[0m\u001b[37m\u001b[0m \u001b[1m1s\u001b[0m 393us/step\n",
      "Accuracy en test: 0.93\n",
      "\n",
      "RN Report:\n",
      "              precision    recall  f1-score   support\n",
      "\n",
      "           0       0.57      0.58      0.57     58528\n",
      "           1       0.43      0.42      0.43     44756\n",
      "\n",
      "    accuracy                           0.51    103284\n",
      "   macro avg       0.50      0.50      0.50    103284\n",
      "weighted avg       0.51      0.51      0.51    103284\n",
      "\n"
     ]
    }
   ],
   "source": [
    "# Reduce dataset size to 1%\n",
    "# Esta seccion se hizo para probar con trozos del dataset, se los parametros estan para usarlo completo ahora\n",
    "sample_size = int(len(X_train_scaled) * 1)\n",
    "X_train_sampled = X_train.sample(n=sample_size, random_state=366)\n",
    "y_train_sampled = y_train.loc[X_train_sampled.index]\n",
    "\n",
    "sample_size = int(len(X_test_scaled) * 1)\n",
    "X_test_sampled = X_test.sample(n=sample_size, random_state=366)\n",
    "y_test_sampled = y_test.loc[X_test_sampled.index]\n",
    "\n",
    "\n",
    "\n",
    "# Logistic Regression\n",
    "logreg_model = LogisticRegression(max_iter=10000)\n",
    "logreg_model.fit(X_train_sampled, y_train_sampled)\n",
    "logreg_predictions = logreg_model.predict(X_test_sampled)\n",
    "print(\"\\nLogistic Regression Classification Report:\")\n",
    "print(classification_report(y_test_sampled, logreg_predictions))\n",
    "\n",
    "\n",
    "# KNN\n",
    "knn_model = KNeighborsClassifier()\n",
    "knn_model.fit(X_train_sampled, y_train_sampled)\n",
    "knn_predictions = knn_model.predict(X_test_sampled)\n",
    "print(\"\\nKNN Classification Report:\")\n",
    "print(classification_report(y_test_sampled, knn_predictions))\n",
    "\n",
    "\n",
    "# Decision Tree\n",
    "dt_model = DecisionTreeClassifier()\n",
    "dt_model.fit(X_train_sampled, y_train_sampled)\n",
    "dt_predictions = dt_model.predict(X_test_sampled)\n",
    "print(\"\\nDecision Tree Classification Report:\")\n",
    "print(classification_report(y_test_sampled, dt_predictions))\n",
    "\n",
    "# Random Forest\n",
    "rf_model = RandomForestClassifier(random_state=366)  # Added random_state for reproducibility\n",
    "rf_model.fit(X_train_sampled, y_train_sampled)\n",
    "rf_predictions = rf_model.predict(X_test_sampled)\n",
    "print(\"\\nRandom Forest Classification Report:\")\n",
    "print(classification_report(y_test_sampled, rf_predictions))\n",
    "\n",
    "# Red Neuronal\n",
    "from tensorflow.keras.models import Sequential\n",
    "from tensorflow.keras.layers import Dense\n",
    "from tensorflow.keras.utils import to_categorical\n",
    "\n",
    "\n",
    "rn_model = Sequential([\n",
    "    Dense(64, activation='relu', input_shape=(X_train.shape[1],)),\n",
    "    Dense(32, activation='relu'),\n",
    "    Dense(16, activation='relu'),\n",
    "    Dense(1, activation='sigmoid')\n",
    "])\n",
    "    \n",
    "rn_model.compile(optimizer='adam',\n",
    "                loss='binary_crossentropy',\n",
    "                metrics=['accuracy'])\n",
    "rn_model.fit(X_train, y_train, epochs=100, batch_size=8, verbose=0)\n",
    "\n",
    "y_pred_probs = rn_model.predict(X_test)\n",
    "y_pred_classes = (y_pred_probs > 0.5).astype(int)\n",
    "\n",
    "loss, accuracy = model.evaluate(X_test, y_test, verbose=0)\n",
    "print(f\"Accuracy en test: {accuracy:.2f}\")\n",
    "print(\"\\nRed Neuronal Report:\")\n",
    "print(classification_report(y_test_sampled, y_pred_classes))\n",
    "\n",
    "\n",
    "#Lista de modelos\n",
    "\n",
    "models = [ logreg_model, knn_model, dt_model, rf_model]\n",
    "nombres = [ 'Logistic Regression', 'KNN', 'Decision Tree', 'Random Forest']"
   ]
  },
  {
   "cell_type": "markdown",
   "id": "8l4EzxrpKbxB",
   "metadata": {
    "id": "8l4EzxrpKbxB"
   },
   "source": [
    "# Se aplica una validacion cruzada (Cross-Validation) a cada modelos para verificar si existe sobreajuste"
   ]
  },
  {
   "cell_type": "code",
   "execution_count": 54,
   "id": "skhuXlCTAaLB",
   "metadata": {
    "colab": {
     "base_uri": "https://localhost:8080/"
    },
    "id": "skhuXlCTAaLB",
    "outputId": "49c92583-a095-47af-d383-d94e92093fa7"
   },
   "outputs": [
    {
     "name": "stdout",
     "output_type": "stream",
     "text": [
      "\n",
      "\n",
      "--------------------------------------------------\n",
      "Modelo:  Logistic Regression\n",
      "[0.87039907 0.86691205 0.87020535 0.87194886 0.86923673]\n",
      "El promedio es: 0.8697404106935297\n",
      "La desviacion estandar es: 0.0016601538384834302\n",
      "\n",
      "\n",
      "--------------------------------------------------\n",
      "Modelo:  KNN\n",
      "[0.69837272 0.70515304 0.69972879 0.7006974  0.69275475]\n",
      "El promedio es: 0.6993413405656722\n",
      "La desviacion estandar es: 0.004002157770977676\n",
      "\n",
      "\n",
      "--------------------------------------------------\n",
      "Modelo:  Decision Tree\n",
      "[0.92328555 0.93064704 0.93607129 0.93335916 0.93684618]\n",
      "El promedio es: 0.9320418442464161\n",
      "La desviacion estandar es: 0.004892272489008788\n",
      "\n",
      "\n",
      "--------------------------------------------------\n",
      "Modelo:  Random Forest\n",
      "[0.9502131  0.94866331 0.95447501 0.9552499  0.96067416]\n",
      "El promedio es: 0.953855094924448\n",
      "La desviacion estandar es: 0.0042201468591058135\n"
     ]
    }
   ],
   "source": [
    "for i in range (len(models)):\n",
    "  print(\"\\n\")\n",
    "  print(\"-\"*50)\n",
    "  print(\"Modelo: \",nombres[i])\n",
    "  scores = cross_val_score(models[i], X_train_sampled, y_train_sampled, cv=5)\n",
    "  print(scores)\n",
    "  print('El promedio es:', np.mean(scores))\n",
    "  print('La desviacion estandar es:', np.std(scores) )"
   ]
  },
  {
   "cell_type": "code",
   "execution_count": 55,
   "id": "GV5-oJpuAVzq",
   "metadata": {
    "colab": {
     "base_uri": "https://localhost:8080/"
    },
    "id": "GV5-oJpuAVzq",
    "outputId": "6b4ef4cc-0a9d-4c1b-e091-6e8a7476481d"
   },
   "outputs": [
    {
     "name": "stdout",
     "output_type": "stream",
     "text": [
      "\n",
      "\n",
      "--------------------------------------------------\n",
      "Modelo:  Logistic Regression\n",
      "Accuracy en entrenamiento: 0.870\n",
      "Accuracy en test:         0.873\n",
      "\n",
      "\n",
      "--------------------------------------------------\n",
      "Modelo:  KNN\n",
      "Accuracy en entrenamiento: 0.806\n",
      "Accuracy en test:         0.705\n",
      "\n",
      "\n",
      "--------------------------------------------------\n",
      "Modelo:  Decision Tree\n",
      "Accuracy en entrenamiento: 1.000\n",
      "Accuracy en test:         0.935\n",
      "\n",
      "\n",
      "--------------------------------------------------\n",
      "Modelo:  Random Forest\n",
      "Accuracy en entrenamiento: 1.000\n",
      "Accuracy en test:         0.954\n"
     ]
    }
   ],
   "source": [
    "# Evaluación en test real\n",
    "for i in range (len(models)):\n",
    "  print(\"\\n\")\n",
    "  print(\"-\"*50)\n",
    "  print(\"Modelo: \",nombres[i])\n",
    "  y_test_pred = models[i].predict(X_test_sampled)\n",
    "  test_accuracy = accuracy_score(y_test_sampled, y_test_pred)\n",
    "\n",
    "# Evaluación en entrenamiento (si no la habías hecho aún)\n",
    "  y_train_pred = models[i].predict(X_train_sampled)\n",
    "  train_accuracy = accuracy_score(y_train_sampled, y_train_pred)\n",
    "\n",
    "  print(f\"Accuracy en entrenamiento: {train_accuracy:.3f}\")\n",
    "  print(f\"Accuracy en test:         {test_accuracy:.3f}\")"
   ]
  },
  {
   "cell_type": "code",
   "execution_count": 57,
   "id": "bzuksRdABI7i",
   "metadata": {
    "colab": {
     "base_uri": "https://localhost:8080/"
    },
    "id": "bzuksRdABI7i",
    "outputId": "e2d315da-2346-4cbc-f855-181d329eefb3"
   },
   "outputs": [
    {
     "name": "stdout",
     "output_type": "stream",
     "text": [
      "\n",
      "\n",
      "--------------------------------------------------\n",
      "Modelo:  Logistic Regression\n",
      "\n",
      "🔷 ACCURACY\n",
      "Train promedio: 0.870\n",
      "Test promedio:  0.870 ± 0.003\n",
      "\n",
      "🔷 F1_MACRO\n",
      "Train promedio: 0.867\n",
      "Test promedio:  0.867 ± 0.003\n",
      "\n",
      "🔷 PRECISION_MACRO\n",
      "Train promedio: 0.869\n",
      "Test promedio:  0.869 ± 0.003\n",
      "\n",
      "🔷 RECALL_MACRO\n",
      "Train promedio: 0.866\n",
      "Test promedio:  0.866 ± 0.004\n",
      "\n",
      "\n",
      "--------------------------------------------------\n",
      "Modelo:  KNN\n",
      "\n",
      "🔷 ACCURACY\n",
      "Train promedio: 0.800\n",
      "Test promedio:  0.696 ± 0.007\n",
      "\n",
      "🔷 F1_MACRO\n",
      "Train promedio: 0.795\n",
      "Test promedio:  0.689 ± 0.007\n",
      "\n",
      "🔷 PRECISION_MACRO\n",
      "Train promedio: 0.798\n",
      "Test promedio:  0.691 ± 0.007\n",
      "\n",
      "🔷 RECALL_MACRO\n",
      "Train promedio: 0.793\n",
      "Test promedio:  0.688 ± 0.007\n",
      "\n",
      "\n",
      "--------------------------------------------------\n",
      "Modelo:  Decision Tree\n",
      "\n",
      "🔷 ACCURACY\n",
      "Train promedio: 1.000\n",
      "Test promedio:  0.932 ± 0.003\n",
      "\n",
      "🔷 F1_MACRO\n",
      "Train promedio: 1.000\n",
      "Test promedio:  0.931 ± 0.003\n",
      "\n",
      "🔷 PRECISION_MACRO\n",
      "Train promedio: 1.000\n",
      "Test promedio:  0.931 ± 0.003\n",
      "\n",
      "🔷 RECALL_MACRO\n",
      "Train promedio: 1.000\n",
      "Test promedio:  0.931 ± 0.003\n",
      "\n",
      "\n",
      "--------------------------------------------------\n",
      "Modelo:  Random Forest\n",
      "\n",
      "🔷 ACCURACY\n",
      "Train promedio: 1.000\n",
      "Test promedio:  0.953 ± 0.003\n",
      "\n",
      "🔷 F1_MACRO\n",
      "Train promedio: 1.000\n",
      "Test promedio:  0.952 ± 0.003\n",
      "\n",
      "🔷 PRECISION_MACRO\n",
      "Train promedio: 1.000\n",
      "Test promedio:  0.953 ± 0.003\n",
      "\n",
      "🔷 RECALL_MACRO\n",
      "Train promedio: 1.000\n",
      "Test promedio:  0.951 ± 0.003\n"
     ]
    }
   ],
   "source": [
    "# Definir las métricas que deseas\n",
    "scoring = ['accuracy', 'f1_macro', 'precision_macro', 'recall_macro']\n",
    "\n",
    "# Crear objeto StratifiedKFold con 5 folds\n",
    "cv_strategy = StratifiedKFold(n_splits=5, shuffle=True, random_state=366)\n",
    "for i in range (len(models)):\n",
    "  print(\"\\n\")\n",
    "  print(\"-\"*50)\n",
    "  print(\"Modelo: \",nombres[i])\n",
    "\n",
    "# Ejecutar validación cruzada con StratifiedKFold\n",
    "  cv_results = cross_validate(\n",
    "      models[i],\n",
    "      X_train_sampled,\n",
    "      y_train_sampled,\n",
    "      cv=cv_strategy,\n",
    "      scoring=scoring,\n",
    "      return_train_score=True\n",
    "  )\n",
    "\n",
    "# Imprimir resultados por métrica\n",
    "  for metric in scoring:\n",
    "      test_scores = cv_results[f'test_{metric}']\n",
    "      train_scores = cv_results[f'train_{metric}']\n",
    "      print(f\"\\n🔷 {metric.upper()}\")\n",
    "      print(f\"Train promedio: {train_scores.mean():.3f}\")\n",
    "      print(f\"Test promedio:  {test_scores.mean():.3f} ± {test_scores.std():.3f}\")"
   ]
  },
  {
   "cell_type": "markdown",
   "id": "6b69d4f1-0209-4459-9410-c3b923e68d8f",
   "metadata": {},
   "source": [
    "# Metodo KFold para Cross-Validation"
   ]
  },
  {
   "cell_type": "code",
   "execution_count": 94,
   "id": "137f54d7-4056-4552-8287-352722d73c44",
   "metadata": {},
   "outputs": [
    {
     "name": "stderr",
     "output_type": "stream",
     "text": [
      "C:\\Users\\Alumno\\anaconda3\\Lib\\site-packages\\keras\\src\\layers\\core\\dense.py:93: UserWarning: Do not pass an `input_shape`/`input_dim` argument to a layer. When using Sequential models, prefer using an `Input(shape)` object as the first layer in the model instead.\n",
      "  super().__init__(activity_regularizer=activity_regularizer, **kwargs)\n",
      "C:\\Users\\Alumno\\anaconda3\\Lib\\site-packages\\keras\\src\\layers\\core\\dense.py:93: UserWarning: Do not pass an `input_shape`/`input_dim` argument to a layer. When using Sequential models, prefer using an `Input(shape)` object as the first layer in the model instead.\n",
      "  super().__init__(activity_regularizer=activity_regularizer, **kwargs)\n",
      "C:\\Users\\Alumno\\anaconda3\\Lib\\site-packages\\keras\\src\\layers\\core\\dense.py:93: UserWarning: Do not pass an `input_shape`/`input_dim` argument to a layer. When using Sequential models, prefer using an `Input(shape)` object as the first layer in the model instead.\n",
      "  super().__init__(activity_regularizer=activity_regularizer, **kwargs)\n",
      "C:\\Users\\Alumno\\anaconda3\\Lib\\site-packages\\keras\\src\\layers\\core\\dense.py:93: UserWarning: Do not pass an `input_shape`/`input_dim` argument to a layer. When using Sequential models, prefer using an `Input(shape)` object as the first layer in the model instead.\n",
      "  super().__init__(activity_regularizer=activity_regularizer, **kwargs)\n",
      "C:\\Users\\Alumno\\anaconda3\\Lib\\site-packages\\keras\\src\\layers\\core\\dense.py:93: UserWarning: Do not pass an `input_shape`/`input_dim` argument to a layer. When using Sequential models, prefer using an `Input(shape)` object as the first layer in the model instead.\n",
      "  super().__init__(activity_regularizer=activity_regularizer, **kwargs)\n"
     ]
    },
    {
     "name": "stdout",
     "output_type": "stream",
     "text": [
      "Precisión en entrenamiento por fold: [0.8624079823493958, 0.851123571395874, 0.8416311740875244, 0.857758641242981, 0.79286128282547]\n",
      "Precisión en validación por fold: [0.8599380254745483, 0.8459899425506592, 0.8428903818130493, 0.8580007553100586, 0.7898101806640625]\n",
      "Precisión media de entrenamiento: 0.8411565303802491\n",
      "Precisión media de validación: 0.8393258571624755\n",
      "Desviación estándar de la precisión de entrenamiento: 0.025136636312477416\n",
      "Desviación estándar de la precisión de validación: 0.02562237847073867\n"
     ]
    }
   ],
   "source": [
    "#KFold\n",
    "kf = KFold(n_splits=5, shuffle=True, random_state=366)\n",
    "\n",
    "train_accuracies = []\n",
    "val_accuracies = [] \n",
    "\n",
    "for train_index, val_index in kf.split(X_train):\n",
    "    X_train_fold, X_val_fold = X_train.iloc[train_index], X_train.iloc[val_index]\n",
    "    y_train_fold, y_val_fold = y_train.iloc[train_index], y_train.iloc[val_index]\n",
    "    model = Sequential([\n",
    "        Dense(64, activation='relu', input_shape=(X_train.shape[1],)),\n",
    "        Dense(32, activation='relu'),\n",
    "        Dense(16, activation='relu'),\n",
    "        Dense(1, activation='sigmoid')\n",
    "    ])\n",
    "    model.compile(optimizer='adam', loss='binary_crossentropy', metrics=['accuracy'])\n",
    "    model.fit(X_train_fold, y_train_fold, epochs=10, batch_size=32, verbose=0)\n",
    "    # Evaluar el modelo en el conjunto de entrenamiento\n",
    "    train_loss, train_accuracy = model.evaluate(X_train_fold, y_train_fold, verbose=0)\n",
    "    train_accuracies.append(train_accuracy)\n",
    "    # Evaluar el modelo en el conjunto de validación\n",
    "    val_loss, val_accuracy = model.evaluate(X_val_fold, y_val_fold, verbose=0)\n",
    "    val_accuracies.append(val_accuracy)\n",
    "\n",
    "# Mostrar resultados\n",
    "print(\"Precisión en entrenamiento por fold:\", train_accuracies)\n",
    "print(\"Precisión en validación por fold:\", val_accuracies)\n",
    "\n",
    "# Promedio y desviación estándar\n",
    "print(\"Precisión media de entrenamiento:\", np.mean(train_accuracies))\n",
    "print(\"Precisión media de validación:\", np.mean(val_accuracies))\n",
    "print(\"Desviación estándar de la precisión de entrenamiento:\", np.std(train_accuracies))\n",
    "print(\"Desviación estándar de la precisión de validación:\", np.std(val_accuracies))\n"
   ]
  },
  {
   "cell_type": "markdown",
   "id": "ed995ffe-ab09-4a5d-a533-d1291bd72f3c",
   "metadata": {},
   "source": [
    "# Metodo Shuffle Split para Cross-Validation"
   ]
  },
  {
   "cell_type": "code",
   "execution_count": 96,
   "id": "e89dde48-26ed-4d87-8a68-58cbca61f0f0",
   "metadata": {},
   "outputs": [
    {
     "name": "stderr",
     "output_type": "stream",
     "text": [
      "C:\\Users\\Alumno\\anaconda3\\Lib\\site-packages\\keras\\src\\layers\\core\\dense.py:93: UserWarning: Do not pass an `input_shape`/`input_dim` argument to a layer. When using Sequential models, prefer using an `Input(shape)` object as the first layer in the model instead.\n",
      "  super().__init__(activity_regularizer=activity_regularizer, **kwargs)\n",
      "C:\\Users\\Alumno\\anaconda3\\Lib\\site-packages\\keras\\src\\layers\\core\\dense.py:93: UserWarning: Do not pass an `input_shape`/`input_dim` argument to a layer. When using Sequential models, prefer using an `Input(shape)` object as the first layer in the model instead.\n",
      "  super().__init__(activity_regularizer=activity_regularizer, **kwargs)\n",
      "C:\\Users\\Alumno\\anaconda3\\Lib\\site-packages\\keras\\src\\layers\\core\\dense.py:93: UserWarning: Do not pass an `input_shape`/`input_dim` argument to a layer. When using Sequential models, prefer using an `Input(shape)` object as the first layer in the model instead.\n",
      "  super().__init__(activity_regularizer=activity_regularizer, **kwargs)\n",
      "C:\\Users\\Alumno\\anaconda3\\Lib\\site-packages\\keras\\src\\layers\\core\\dense.py:93: UserWarning: Do not pass an `input_shape`/`input_dim` argument to a layer. When using Sequential models, prefer using an `Input(shape)` object as the first layer in the model instead.\n",
      "  super().__init__(activity_regularizer=activity_regularizer, **kwargs)\n",
      "C:\\Users\\Alumno\\anaconda3\\Lib\\site-packages\\keras\\src\\layers\\core\\dense.py:93: UserWarning: Do not pass an `input_shape`/`input_dim` argument to a layer. When using Sequential models, prefer using an `Input(shape)` object as the first layer in the model instead.\n",
      "  super().__init__(activity_regularizer=activity_regularizer, **kwargs)\n"
     ]
    },
    {
     "name": "stdout",
     "output_type": "stream",
     "text": [
      "Precisión en entrenamiento por split: [0.8618268370628357, 0.8063734769821167, 0.8361584544181824, 0.8658949732780457, 0.8690429925918579]\n",
      "Precisión en validación por split: [0.8626501560211182, 0.800464928150177, 0.8314606547355652, 0.8605191707611084, 0.8616815209388733]\n",
      "Precisión media de entrenamiento: 0.8478593468666077\n",
      "Precisión media de validación: 0.8433552861213685\n",
      "Desviación estándar de la precisión de entrenamiento: 0.023778602704154543\n",
      "Desviación estándar de la precisión de validación: 0.024428699865780727\n"
     ]
    }
   ],
   "source": [
    "#Shuffle Split\n",
    "ss = ShuffleSplit(n_splits=5, test_size=0.2, random_state=366)\n",
    "\n",
    "train_accuracies = []\n",
    "val_accuracies = []\n",
    "\n",
    "for train_index, val_index in ss.split(X_train):\n",
    "    X_train_fold, X_val_fold = X_train.iloc[train_index], X_train.iloc[val_index]\n",
    "    y_train_fold, y_val_fold = y_train.iloc[train_index], y_train.iloc[val_index]\n",
    "    model = Sequential([\n",
    "        Dense(64, activation='relu', input_shape=(X_train.shape[1],)),\n",
    "        Dense(32, activation='relu'),\n",
    "        Dense(16, activation='relu'),\n",
    "        Dense(1, activation='sigmoid')\n",
    "    ])\n",
    "    model.compile(optimizer='adam', loss='binary_crossentropy', metrics=['accuracy'])\n",
    "    model.fit(X_train_fold, y_train_fold, epochs=10, batch_size=32, verbose=0)\n",
    "    # Evaluar el modelo en el conjunto de entrenamiento\n",
    "    train_loss, train_accuracy = model.evaluate(X_train_fold, y_train_fold, verbose=0)\n",
    "    train_accuracies.append(train_accuracy)\n",
    "    # Evaluar el modelo en el conjunto de validación\n",
    "    val_loss, val_accuracy = model.evaluate(X_val_fold, y_val_fold, verbose=0)\n",
    "    val_accuracies.append(val_accuracy)\n",
    "\n",
    "# Mostrar resultados\n",
    "print(\"Precisión en entrenamiento por split:\", train_accuracies)\n",
    "print(\"Precisión en validación por split:\", val_accuracies)\n",
    "\n",
    "# Promedio y desviación estándar\n",
    "print(\"Precisión media de entrenamiento:\", np.mean(train_accuracies))\n",
    "print(\"Precisión media de validación:\", np.mean(val_accuracies))\n",
    "print(\"Desviación estándar de la precisión de entrenamiento:\", np.std(train_accuracies))\n",
    "print(\"Desviación estándar de la precisión de validación:\", np.std(val_accuracies))"
   ]
  },
  {
   "cell_type": "code",
   "execution_count": null,
   "id": "bc9e4619-ffd8-4424-8b38-fff7fb92ebf8",
   "metadata": {},
   "outputs": [],
   "source": []
  }
 ],
 "metadata": {
  "colab": {
   "provenance": []
  },
  "kernelspec": {
   "display_name": "Python [conda env:base] *",
   "language": "python",
   "name": "conda-base-py"
  },
  "language_info": {
   "codemirror_mode": {
    "name": "ipython",
    "version": 3
   },
   "file_extension": ".py",
   "mimetype": "text/x-python",
   "name": "python",
   "nbconvert_exporter": "python",
   "pygments_lexer": "ipython3",
   "version": "3.12.3"
  }
 },
 "nbformat": 4,
 "nbformat_minor": 5
}
